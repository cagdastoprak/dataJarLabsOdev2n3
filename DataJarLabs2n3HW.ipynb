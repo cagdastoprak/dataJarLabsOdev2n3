{
  "nbformat": 4,
  "nbformat_minor": 0,
  "metadata": {
    "colab": {
      "name": "DataJarLabs2n3HW.ipynb",
      "provenance": []
    },
    "kernelspec": {
      "name": "python3",
      "display_name": "Python 3"
    }
  },
  "cells": [
    {
      "cell_type": "markdown",
      "metadata": {
        "id": "Ln2HGJnAlrZl",
        "colab_type": "text"
      },
      "source": [
        "1"
      ]
    },
    {
      "cell_type": "code",
      "metadata": {
        "id": "U09ZLQm_lk9W",
        "colab_type": "code",
        "colab": {
          "base_uri": "https://localhost:8080/",
          "height": 34
        },
        "outputId": "58605422-6e16-4862-d5b3-fa8879059c83"
      },
      "source": [
        "haftanınGünleri = {\n",
        "    '1' : 'Pazartesi',\n",
        "    '2' : 'Salı',\n",
        "    '3' : 'Çarşamba',\n",
        "    '4' : 'Perşembe',\n",
        "    '5' : 'Cuma',\n",
        "    '6' : 'Cumartesi',\n",
        "    '7' : 'Pazar'\n",
        "}\n",
        "\n",
        "print(haftanınGünleri)"
      ],
      "execution_count": 17,
      "outputs": [
        {
          "output_type": "stream",
          "text": [
            "{'1': 'Pazartesi', '2': 'Salı', '3': 'Çarşamba', '4': 'Perşembe', '5': 'Cuma', '6': 'Cumartesi', '7': 'Pazar'}\n"
          ],
          "name": "stdout"
        }
      ]
    },
    {
      "cell_type": "markdown",
      "metadata": {
        "id": "Ji4I2wZUrx9q",
        "colab_type": "text"
      },
      "source": [
        "Burada 2 öğe siliniyor\n"
      ]
    },
    {
      "cell_type": "code",
      "metadata": {
        "id": "Iibt8J5ImSWj",
        "colab_type": "code",
        "colab": {
          "base_uri": "https://localhost:8080/",
          "height": 34
        },
        "outputId": "8c7bf259-7bd0-492e-a774-861e22a8459b"
      },
      "source": [
        "ikili = input(' 2 Adet Rakam Giriniz (Bu Rakamların ilişkili olduğu günler haftadan silinecektir :D)')\n",
        "secim = list(ikili)\n",
        "Mainlist = list(haftanınGünleri.keys())\n",
        "Mainlist.remove(secim[0])\n",
        "Mainlist.remove(secim[1])\n",
        "\n"
      ],
      "execution_count": 18,
      "outputs": [
        {
          "output_type": "stream",
          "text": [
            " 2 Adet Rakam Giriniz (Bu Rakamların ilişkili olduğu günler haftadan silinecektir :D)23\n"
          ],
          "name": "stdout"
        }
      ]
    },
    {
      "cell_type": "markdown",
      "metadata": {
        "id": "ZlRbKBDyr4xH",
        "colab_type": "text"
      },
      "source": [
        "Burada Sonuç Veriliyor biliyorum biraz kötü yolla yazdırdım ama :S"
      ]
    },
    {
      "cell_type": "code",
      "metadata": {
        "id": "zZWYBAvToMN5",
        "colab_type": "code",
        "colab": {
          "base_uri": "https://localhost:8080/",
          "height": 34
        },
        "outputId": "98a8f4b3-d9b4-4d2f-d022-740ba168c137"
      },
      "source": [
        "print(haftanınGünleri[Mainlist[0]],haftanınGünleri[Mainlist[1]],haftanınGünleri[Mainlist[2]],haftanınGünleri[Mainlist[3]],haftanınGünleri[Mainlist[4]])"
      ],
      "execution_count": 19,
      "outputs": [
        {
          "output_type": "stream",
          "text": [
            "Pazartesi Perşembe Cuma Cumartesi Pazar\n"
          ],
          "name": "stdout"
        }
      ]
    },
    {
      "cell_type": "markdown",
      "metadata": {
        "id": "sztrMVUqsSmX",
        "colab_type": "text"
      },
      "source": [
        "2"
      ]
    },
    {
      "cell_type": "code",
      "metadata": {
        "id": "T8pUyKq6sUg4",
        "colab_type": "code",
        "colab": {
          "base_uri": "https://localhost:8080/",
          "height": 54
        },
        "outputId": "57012bd0-d962-43b1-b591-8e0d8243ab21"
      },
      "source": [
        "Aylargünler = [['Ocak','31'],['Şubat','28'],['Mart','31'],['Nisan','30'],['Mayıs','31'],['Haziran','30'],['Temmuz','31'],['Ağustos','31'],['Eylül','30'],['Ekim','31'],['Kasım','30'],['Aralık','31']]\n",
        "print(Aylargünler)"
      ],
      "execution_count": 28,
      "outputs": [
        {
          "output_type": "stream",
          "text": [
            "[['Ocak', '31'], ['Şubat', '28'], ['Mart', '31'], ['Nisan', '30'], ['Mayıs', '31'], ['Haziran', '30'], ['Temmuz', '31'], ['Ağustos', '31'], ['Eylül', '30'], ['Ekim', '31'], ['Kasım', '30'], ['Aralık', '31']]\n"
          ],
          "name": "stdout"
        }
      ]
    },
    {
      "cell_type": "code",
      "metadata": {
        "id": "kHLH7Jmbs7g2",
        "colab_type": "code",
        "colab": {
          "base_uri": "https://localhost:8080/",
          "height": 50
        },
        "outputId": "61b19e1b-276e-457f-d547-64cafb7107b8"
      },
      "source": [
        "Aylar = [Aylargünler[0][0],Aylargünler[1][0],Aylargünler[2][0],Aylargünler[3][0],Aylargünler[4][0],Aylargünler[5][0],Aylargünler[6][0],Aylargünler[7][0],Aylargünler[8][0],Aylargünler[9][0],Aylargünler[10][0],Aylargünler[11][0]]\n",
        "Günler = [Aylargünler[0][1],Aylargünler[1][1],Aylargünler[2][1],Aylargünler[3][1],Aylargünler[4][1],Aylargünler[5][1],Aylargünler[6][1],Aylargünler[7][1],Aylargünler[8][1],Aylargünler[9][1],Aylargünler[10][1],Aylargünler[11][1]]\n",
        "print(Aylar)\n",
        "print(Günler)"
      ],
      "execution_count": 38,
      "outputs": [
        {
          "output_type": "stream",
          "text": [
            "['Ocak', 'Şubat', 'Mart', 'Nisan', 'Mayıs', 'Haziran', 'Temmuz', 'Ağustos', 'Eylül', 'Ekim', 'Kasım', 'Aralık']\n",
            "['31', '28', '31', '30', '31', '30', '31', '31', '30', '31', '30', '31']\n"
          ],
          "name": "stdout"
        }
      ]
    },
    {
      "cell_type": "code",
      "metadata": {
        "id": "YGwo3R20vtw9",
        "colab_type": "code",
        "colab": {
          "base_uri": "https://localhost:8080/",
          "height": 34
        },
        "outputId": "7c598b31-8b46-4dc8-e473-741fa7c2e6cb"
      },
      "source": [
        "Winter = [Aylar[11],Aylar[0],Aylar[1]]\n",
        "Spring = [Aylar[2],Aylar[3],Aylar[4]]\n",
        "Summer = [Aylar[5],Aylar[6],Aylar[7]]\n",
        "Autumn = [Aylar[8],Aylar[9],Aylar[10]]"
      ],
      "execution_count": 40,
      "outputs": [
        {
          "output_type": "stream",
          "text": [
            "['Haziran', 'Temmuz', 'Ağustos']\n"
          ],
          "name": "stdout"
        }
      ]
    },
    {
      "cell_type": "code",
      "metadata": {
        "id": "USyONSn40IDS",
        "colab_type": "code",
        "colab": {
          "base_uri": "https://localhost:8080/",
          "height": 34
        },
        "outputId": "3cb6f40e-0f6e-4c65-a13c-58e521a46a73"
      },
      "source": [
        "Tosum = [Aylar.index(Summer[0]),Aylar.index(Summer[1]),Aylar.index(Summer[2])]\n",
        "ToDaySum = int(Günler[Tosum[0]])+int(Günler[Tosum[1]])+int(Günler[Tosum[0]])\n",
        "print(ToDaySum)"
      ],
      "execution_count": 46,
      "outputs": [
        {
          "output_type": "stream",
          "text": [
            "91\n"
          ],
          "name": "stdout"
        }
      ]
    },
    {
      "cell_type": "markdown",
      "metadata": {
        "id": "d4WkapTs2Wd0",
        "colab_type": "text"
      },
      "source": [
        "Çok uzun yollardan yaptım ama optimize edemedim umarım 1 e 1 de bunu konuşuruz . :("
      ]
    }
  ]
}